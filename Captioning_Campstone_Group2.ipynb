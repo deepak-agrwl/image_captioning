{
 "cells": [
  {
   "cell_type": "markdown",
   "id": "e423616b",
   "metadata": {},
   "source": [
    "Task1: Download the Flickr8K dataset.\n",
    "\n",
    "You will get it from Kaggle.\n",
    "\n",
    "After downloading check if you have around 8000 images and 40K around captions."
   ]
  },
  {
   "cell_type": "code",
   "execution_count": 1,
   "id": "f1a0579b",
   "metadata": {},
   "outputs": [
    {
     "name": "stdout",
     "output_type": "stream",
     "text": [
      "✅ Dataset already exists. Skipping download. Located at: flickr8k_data\n"
     ]
    }
   ],
   "source": [
    "import os\n",
    "from kaggle.api.kaggle_api_extended import KaggleApi\n",
    "\n",
    "# Initialize Kaggle API\n",
    "api = KaggleApi()\n",
    "api.authenticate()\n",
    "\n",
    "# Set output folder\n",
    "output_dir = 'flickr8k_data'\n",
    "os.makedirs(output_dir, exist_ok=True)\n",
    "\n",
    "# Dataset identifier from Kaggle URL\n",
    "dataset = 'adityajn105/flickr8k'\n",
    "\n",
    "# Check for a file that should exist after extraction\n",
    "expected_file = os.path.join(output_dir, 'captions.txt')  # Change if another file is more reliable\n",
    "\n",
    "if not os.path.exists(expected_file):\n",
    "    print(\"Dataset not found locally. Downloading from Kaggle...\")\n",
    "    api.dataset_download_files(dataset, path=output_dir, unzip=True)\n",
    "    print(f\"✅ Download complete! Files saved to: {output_dir}\")\n",
    "else:\n",
    "    print(f\"✅ Dataset already exists. Skipping download. Located at: {output_dir}\")"
   ]
  },
  {
   "cell_type": "markdown",
   "id": "e09c23cc",
   "metadata": {},
   "source": [
    "**Task 2: Dump and save CLIP embeddings as .pt**\n",
    "\n",
    "Sample Code:\n",
    "\n",
    "```\n",
    "from transformers import CLIPProcessor, CLIPModel\n",
    "from PIL import Image\n",
    "import torch\n",
    "```\n",
    "\n",
    "Load model and processor once\n",
    "```\n",
    "model = CLIPModel.from_pretrained(\"openai/clip-vit-base-patch32\")\n",
    "processor = CLIPProcessor.from_pretrained(\"openai/clip-vit-base-patch32\")\n",
    "\n",
    "def get_image_clip_embedding(image_path):\n",
    "    \"\"\"Returns the CLIP embedding for an image.\"\"\"\n",
    "    image = Image.open(image_path).convert(\"RGB\")\n",
    "    inputs = processor(images=image, return_tensors=\"pt\")\n",
    "    with torch.no_grad():\n",
    "        outputs = model.get_image_features(**inputs)\n",
    "    return outputs.squeeze().numpy()\n",
    "\n",
    "def get_text_clip_embedding(text):\n",
    "    \"\"\"Returns the CLIP embedding for a text string.\"\"\"\n",
    "    inputs = processor(text=[text], return_tensors=\"pt\")\n",
    "    with torch.no_grad():\n",
    "        outputs = model.get_text_features(**inputs)\n",
    "    return outputs.squeeze().numpy()\n",
    "```"
   ]
  },
  {
   "cell_type": "code",
   "execution_count": 2,
   "id": "71ed1695",
   "metadata": {},
   "outputs": [
    {
     "name": "stdout",
     "output_type": "stream",
     "text": [
      "Requirement already satisfied: transformers in /opt/anaconda3/lib/python3.12/site-packages (4.52.3)\n",
      "Requirement already satisfied: filelock in /opt/anaconda3/lib/python3.12/site-packages (from transformers) (3.13.1)\n",
      "Requirement already satisfied: huggingface-hub<1.0,>=0.30.0 in /opt/anaconda3/lib/python3.12/site-packages (from transformers) (0.32.0)\n",
      "Requirement already satisfied: numpy>=1.17 in /opt/anaconda3/lib/python3.12/site-packages (from transformers) (1.26.4)\n",
      "Requirement already satisfied: packaging>=20.0 in /opt/anaconda3/lib/python3.12/site-packages (from transformers) (24.1)\n",
      "Requirement already satisfied: pyyaml>=5.1 in /opt/anaconda3/lib/python3.12/site-packages (from transformers) (6.0.1)\n",
      "Requirement already satisfied: regex!=2019.12.17 in /opt/anaconda3/lib/python3.12/site-packages (from transformers) (2024.9.11)\n",
      "Requirement already satisfied: requests in /opt/anaconda3/lib/python3.12/site-packages (from transformers) (2.32.3)\n",
      "Requirement already satisfied: tokenizers<0.22,>=0.21 in /opt/anaconda3/lib/python3.12/site-packages (from transformers) (0.21.1)\n",
      "Requirement already satisfied: safetensors>=0.4.3 in /opt/anaconda3/lib/python3.12/site-packages (from transformers) (0.5.3)\n",
      "Requirement already satisfied: tqdm>=4.27 in /opt/anaconda3/lib/python3.12/site-packages (from transformers) (4.66.5)\n",
      "Requirement already satisfied: fsspec>=2023.5.0 in /opt/anaconda3/lib/python3.12/site-packages (from huggingface-hub<1.0,>=0.30.0->transformers) (2024.6.1)\n",
      "Requirement already satisfied: typing-extensions>=3.7.4.3 in /opt/anaconda3/lib/python3.12/site-packages (from huggingface-hub<1.0,>=0.30.0->transformers) (4.11.0)\n",
      "Requirement already satisfied: hf-xet<2.0.0,>=1.1.2 in /opt/anaconda3/lib/python3.12/site-packages (from huggingface-hub<1.0,>=0.30.0->transformers) (1.1.2)\n",
      "Requirement already satisfied: charset-normalizer<4,>=2 in /opt/anaconda3/lib/python3.12/site-packages (from requests->transformers) (3.3.2)\n",
      "Requirement already satisfied: idna<4,>=2.5 in /opt/anaconda3/lib/python3.12/site-packages (from requests->transformers) (3.7)\n",
      "Requirement already satisfied: urllib3<3,>=1.21.1 in /opt/anaconda3/lib/python3.12/site-packages (from requests->transformers) (2.2.3)\n",
      "Requirement already satisfied: certifi>=2017.4.17 in /opt/anaconda3/lib/python3.12/site-packages (from requests->transformers) (2024.8.30)\n",
      "Requirement already satisfied: torch in /opt/anaconda3/lib/python3.12/site-packages (2.7.0)\n",
      "Requirement already satisfied: pillow in /opt/anaconda3/lib/python3.12/site-packages (10.4.0)\n",
      "Requirement already satisfied: filelock in /opt/anaconda3/lib/python3.12/site-packages (from torch) (3.13.1)\n",
      "Requirement already satisfied: typing-extensions>=4.10.0 in /opt/anaconda3/lib/python3.12/site-packages (from torch) (4.11.0)\n",
      "Requirement already satisfied: setuptools in /opt/anaconda3/lib/python3.12/site-packages (from torch) (75.1.0)\n",
      "Requirement already satisfied: sympy>=1.13.3 in /opt/anaconda3/lib/python3.12/site-packages (from torch) (1.14.0)\n",
      "Requirement already satisfied: networkx in /opt/anaconda3/lib/python3.12/site-packages (from torch) (3.3)\n",
      "Requirement already satisfied: jinja2 in /opt/anaconda3/lib/python3.12/site-packages (from torch) (3.1.4)\n",
      "Requirement already satisfied: fsspec in /opt/anaconda3/lib/python3.12/site-packages (from torch) (2024.6.1)\n",
      "Requirement already satisfied: mpmath<1.4,>=1.1.0 in /opt/anaconda3/lib/python3.12/site-packages (from sympy>=1.13.3->torch) (1.3.0)\n",
      "Requirement already satisfied: MarkupSafe>=2.0 in /opt/anaconda3/lib/python3.12/site-packages (from jinja2->torch) (2.1.3)\n"
     ]
    }
   ],
   "source": [
    "!pip install transformers\n",
    "!pip install torch pillow"
   ]
  },
  {
   "cell_type": "code",
   "execution_count": 4,
   "id": "ac9216ef",
   "metadata": {},
   "outputs": [],
   "source": [
    "from transformers import CLIPProcessor, CLIPModel\n",
    "from PIL import Image\n",
    "from tqdm import tqdm\n",
    "import torch\n",
    "import os"
   ]
  },
  {
   "cell_type": "code",
   "execution_count": 5,
   "id": "04dce51a",
   "metadata": {},
   "outputs": [
    {
     "name": "stderr",
     "output_type": "stream",
     "text": [
      "Using a slow image processor as `use_fast` is unset and a slow processor was saved with this model. `use_fast=True` will be the default behavior in v4.52, even if the model was saved with a slow processor. This will result in minor differences in outputs. You'll still be able to use a slow processor with `use_fast=False`.\n"
     ]
    }
   ],
   "source": [
    "model = CLIPModel.from_pretrained(\"openai/clip-vit-base-patch32\")\n",
    "processor = CLIPProcessor.from_pretrained(\"openai/clip-vit-base-patch32\")\n",
    "\n",
    "def get_image_clip_embedding(image_path):\n",
    "    # Returns the CLIP embedding for an image.\n",
    "    image = Image.open(image_path).convert(\"RGB\")\n",
    "    inputs = processor(images=image, return_tensors=\"pt\")\n",
    "    with torch.no_grad():\n",
    "        outputs = model.get_image_features(**inputs)\n",
    "    return outputs.squeeze().numpy()\n",
    "\n",
    "def get_text_clip_embedding(text):\n",
    "    # Returns the CLIP embedding for a text string.\n",
    "    inputs = processor(text=[text], return_tensors=\"pt\")\n",
    "    with torch.no_grad():\n",
    "        outputs = model.get_text_features(**inputs)\n",
    "    return outputs.squeeze().numpy()"
   ]
  },
  {
   "cell_type": "code",
   "execution_count": null,
   "id": "737b1d02",
   "metadata": {},
   "outputs": [
    {
     "name": "stderr",
     "output_type": "stream",
     "text": [
      "Processing images:   9%|▉         | 764/8091 [01:23<13:19,  9.17it/s]"
     ]
    }
   ],
   "source": [
    "# Define paths\n",
    "flickr8k_images_path = output_dir + \"/Images\"\n",
    "flickr8k_captions_path = output_dir + \"/captions.txt\"\n",
    "\n",
    "# Load captions\n",
    "def load_captions(captions_file):\n",
    "    # Loads captions from the Flickr8k captions file.\n",
    "    captions = {}\n",
    "    with open(captions_file, \"r\") as file:\n",
    "        next(file)  # Skip the header\n",
    "        for line in file:\n",
    "            image_name, caption = line.strip().split(\",\",1)\n",
    "            if image_name not in captions:\n",
    "                captions[image_name] = []\n",
    "            captions[image_name].append(caption)\n",
    "    return captions\n",
    "\n",
    "# Generate embeddings\n",
    "def generate_embeddings(images_path, captions, output_path=\"./embeddings\"):\n",
    "  \"\"\"Generates and saves individual .pt files for images and captions.\"\"\"\n",
    "  os.makedirs(output_path, exist_ok=True)\n",
    "\n",
    "  for image_name, captions_list in tqdm(captions.items(), desc=\"Processing images\"):\n",
    "    image_path = os.path.join(images_path, image_name)\n",
    "    if os.path.exists(image_path):\n",
    "      base_name = os.path.splitext(image_name)[0]\n",
    "      \n",
    "      # Generate and save image embedding\n",
    "      image_embedding = get_image_clip_embedding(image_path)\n",
    "      image_embedding_path = os.path.join(output_path, f\"{base_name}.pt\")\n",
    "      torch.save(image_embedding, image_embedding_path)\n",
    "\n",
    "      # Generate and save caption embeddings\n",
    "      for idx, caption in enumerate(captions_list, start=1):\n",
    "        text_embedding = get_text_clip_embedding(caption)\n",
    "        caption_embedding_path = os.path.join(output_path, f\"{base_name}_cap_{idx}.pt\")\n",
    "        torch.save(text_embedding, caption_embedding_path)\n",
    "  print(f\"All embeddings saved to '{output_path}'\")\n",
    "\n",
    "# Load captions\n",
    "captions = load_captions(flickr8k_captions_path)\n",
    "\n",
    "# Generate and save embeddings\n",
    "generate_embeddings(flickr8k_images_path, captions)"
   ]
  }
 ],
 "metadata": {
  "kernelspec": {
   "display_name": "base",
   "language": "python",
   "name": "python3"
  },
  "language_info": {
   "codemirror_mode": {
    "name": "ipython",
    "version": 3
   },
   "file_extension": ".py",
   "mimetype": "text/x-python",
   "name": "python",
   "nbconvert_exporter": "python",
   "pygments_lexer": "ipython3",
   "version": "3.12.7"
  }
 },
 "nbformat": 4,
 "nbformat_minor": 5
}
